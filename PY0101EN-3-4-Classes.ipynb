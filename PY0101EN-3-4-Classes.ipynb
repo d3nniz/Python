{
  "metadata": {
    "kernelspec": {
      "name": "python",
      "display_name": "Pyolite",
      "language": "python"
    },
    "language_info": {
      "codemirror_mode": {
        "name": "python",
        "version": 3
      },
      "file_extension": ".py",
      "mimetype": "text/x-python",
      "name": "python",
      "nbconvert_exporter": "python",
      "pygments_lexer": "ipython3",
      "version": "3.8"
    }
  },
  "nbformat_minor": 4,
  "nbformat": 4,
  "cells": [
    {
      "cell_type": "markdown",
      "source": "<center>\n    <img src=\"https://cf-courses-data.s3.us.cloud-object-storage.appdomain.cloud/IBMDeveloperSkillsNetwork-PY0101EN-SkillsNetwork/IDSNlogo.png\" width=\"300\" alt=\"cognitiveclass.ai logo\"  />\n</center>\n\n# Classes and Objects in Python\n\nEstimated time needed: **40** minutes\n\n## Objectives\n\nAfter completing this lab you will be able to:\n\n*   Work with classes and objects\n*   Identify and define attributes and methods\n",
      "metadata": {}
    },
    {
      "cell_type": "markdown",
      "source": "<h2>Table of Contents</h2>\n<div class=\"alert alert-block alert-info\" style=\"margin-top: 20px\">\n    <ul>\n        <li>\n            <a href=\"https://#intro\">Introduction to Classes and Objects</a>\n            <ul>\n                <li><a href=\"https://create/?utm_medium=Exinfluencer&utm_source=Exinfluencer&utm_content=000026UJ&utm_term=10006555&utm_id=NA-SkillsNetwork-Channel-SkillsNetworkCoursesIBMDeveloperSkillsNetworkPY0101ENSkillsNetwork19487395-2021-01-01\">Creating a class</a></li>\n                <li><a href=\"https://instance/?utm_medium=Exinfluencer&utm_source=Exinfluencer&utm_content=000026UJ&utm_term=10006555&utm_id=NA-SkillsNetwork-Channel-SkillsNetworkCoursesIBMDeveloperSkillsNetworkPY0101ENSkillsNetwork19487395-2021-01-01\">Instances of a Class: Objects and Attributes</a></li>\n                <li><a href=\"https://method/?utm_medium=Exinfluencer&utm_source=Exinfluencer&utm_content=000026UJ&utm_term=10006555&utm_id=NA-SkillsNetwork-Channel-SkillsNetworkCoursesIBMDeveloperSkillsNetworkPY0101ENSkillsNetwork19487395-2021-01-01\">Methods</a></li>\n            </ul>\n        </li>\n        <li><a href=\"https://creating/?utm_medium=Exinfluencer&utm_source=Exinfluencer&utm_content=000026UJ&utm_term=10006555&utm_id=NA-SkillsNetwork-Channel-SkillsNetworkCoursesIBMDeveloperSkillsNetworkPY0101ENSkillsNetwork19487395-2021-01-01\">Creating a class</a></li>\n        <li><a href=\"https://circle/?utm_medium=Exinfluencer&utm_source=Exinfluencer&utm_content=000026UJ&utm_term=10006555&utm_id=NA-SkillsNetwork-Channel-SkillsNetworkCoursesIBMDeveloperSkillsNetworkPY0101ENSkillsNetwork19487395-2021-01-01\">Creating an instance of a class Circle</a></li>\n        <li><a href=\"https://rect/?utm_medium=Exinfluencer&utm_source=Exinfluencer&utm_content=000026UJ&utm_term=10006555&utm_id=NA-SkillsNetwork-Channel-SkillsNetworkCoursesIBMDeveloperSkillsNetworkPY0101ENSkillsNetwork19487395-2021-01-01\">The Rectangle Class</a></li>\n    </ul>\n\n</div>\n\n<hr>\n",
      "metadata": {}
    },
    {
      "cell_type": "markdown",
      "source": "<h2 id=\"intro\">Introduction to Classes and Objects</h2>\n",
      "metadata": {}
    },
    {
      "cell_type": "markdown",
      "source": "<h3>Creating a Class</h3>\n",
      "metadata": {}
    },
    {
      "cell_type": "markdown",
      "source": "The first step in creating a class is giving it a name. In this notebook, we will create two classes: Circle and Rectangle. We need to determine all the data that make up that class, which we call <em>attributes</em>. Think about this step as creating a blue print that we will use to create objects. In figure 1 we see two classes, Circle and Rectangle. Each has their attributes, which are variables. The class Circle has the attribute radius and color, while the Rectangle class has the attribute height and width. Let’s use the visual examples of these shapes before we get to the code, as this will help you get accustomed to the vocabulary.\n",
      "metadata": {}
    },
    {
      "cell_type": "markdown",
      "source": "<img src=\"https://cf-courses-data.s3.us.cloud-object-storage.appdomain.cloud/IBMDeveloperSkillsNetwork-PY0101EN-SkillsNetwork/labs/Module%203/images/ClassesClass.png\" width=\"500\" />\n",
      "metadata": {}
    },
    {
      "cell_type": "markdown",
      "source": "<i>Figure 1: Classes circle and rectangle, and each has their own attributes. The class Circle has the attribute radius and colour, the class Rectangle has the attributes height and width.</i>\n",
      "metadata": {}
    },
    {
      "cell_type": "markdown",
      "source": "<h3 id=\"instance\">Instances of a Class: Objects and Attributes</h3>\n",
      "metadata": {}
    },
    {
      "cell_type": "markdown",
      "source": "An instance of an object is the realisation of a class, and in Figure 2 we see three instances of the class circle. We give each object a name: red circle, yellow circle, and green circle. Each object has different attributes, so let's focus on the color attribute for each object.\n",
      "metadata": {}
    },
    {
      "cell_type": "markdown",
      "source": "<img src=\"https://cf-courses-data.s3.us.cloud-object-storage.appdomain.cloud/IBMDeveloperSkillsNetwork-PY0101EN-SkillsNetwork/labs/Module%203/images/ClassesObj.png\" width=\"500\" />\n",
      "metadata": {}
    },
    {
      "cell_type": "markdown",
      "source": "<i>Figure 2: Three instances of the class Circle, or three objects of type Circle.</i>\n",
      "metadata": {}
    },
    {
      "cell_type": "markdown",
      "source": "The colour attribute for the red Circle is the colour red, for the green Circle object the colour attribute is green, and for the yellow Circle the colour attribute is yellow.\n",
      "metadata": {}
    },
    {
      "cell_type": "markdown",
      "source": "<h3 id=\"method\">Methods</h3>\n",
      "metadata": {}
    },
    {
      "cell_type": "markdown",
      "source": "Methods give you a way to change or interact with the object; they are functions that interact with objects. For example, let’s say we would like to increase the radius of a circle by a specified amount. We can create a method called **add_radius(r)** that increases the radius by **r**. This is shown in figure 3, where after applying the method to the \"orange circle object\", the radius of the object increases accordingly. The “dot” notation means to apply the method to the object, which is essentially applying a function to the information in the object.\n",
      "metadata": {}
    },
    {
      "cell_type": "markdown",
      "source": "<img src=\"https://cf-courses-data.s3.us.cloud-object-storage.appdomain.cloud/IBMDeveloperSkillsNetwork-PY0101EN-SkillsNetwork/labs/Module%203/images/ClassesMethod.png\" width=\"500\" /> \n",
      "metadata": {}
    },
    {
      "cell_type": "markdown",
      "source": "<i>Figure 3: Applying the method “add_radius” to the object orange circle object.</i>\n",
      "metadata": {}
    },
    {
      "cell_type": "markdown",
      "source": "<hr>\n",
      "metadata": {}
    },
    {
      "cell_type": "markdown",
      "source": "<h2 id=\"creating\">Creating a Class</h2>\n",
      "metadata": {}
    },
    {
      "cell_type": "markdown",
      "source": "Now we are going to create a class Circle, but first, we are going to import a library to draw the objects:\n",
      "metadata": {}
    },
    {
      "cell_type": "code",
      "source": "# Import the library\n\nimport matplotlib.pyplot as plt\n%matplotlib inline  ",
      "metadata": {
        "tags": [],
        "trusted": true
      },
      "execution_count": 1,
      "outputs": []
    },
    {
      "cell_type": "markdown",
      "source": "The first step in creating your own class is to use the <code>class</code> keyword, then the name of the class as shown in Figure 4. In this course the class parent will always be object:\n",
      "metadata": {}
    },
    {
      "cell_type": "markdown",
      "source": "<img src=\"https://cf-courses-data.s3.us.cloud-object-storage.appdomain.cloud/IBMDeveloperSkillsNetwork-PY0101EN-SkillsNetwork/labs/Module%203/images/ClassesDefine.png\" width=\"400\" />\n",
      "metadata": {}
    },
    {
      "cell_type": "markdown",
      "source": "<i>Figure 4: Creating a class Circle.</i>\n",
      "metadata": {}
    },
    {
      "cell_type": "markdown",
      "source": "The next step is a special method called a constructor <code>\\__init\\_\\_</code>, which is used to initialize the object. The inputs are data attributes. The term <code>self</code> contains all the attributes in the set. For example the <code>self.color</code> gives the value of the attribute color and <code>self.radius</code> will give you the radius of the object. We also have the method <code>add_radius()</code> with the parameter <code>r</code>, the method adds the value of <code>r</code> to the attribute radius. To access the radius we use the syntax <code>self.radius</code>. The labeled syntax is summarized in Figure 5:\n",
      "metadata": {}
    },
    {
      "cell_type": "markdown",
      "source": "<img src=\"https://cf-courses-data.s3.us.cloud-object-storage.appdomain.cloud/IBMDeveloperSkillsNetwork-PY0101EN-SkillsNetwork/labs/Module%203/images/ClassesCircle.png\" width=\"600\" />\n",
      "metadata": {}
    },
    {
      "cell_type": "markdown",
      "source": "<i>Figure 5: Labeled syntax of the object circle.</i>\n",
      "metadata": {}
    },
    {
      "cell_type": "markdown",
      "source": "The actual object is shown below. We include the method <code>drawCircle</code> to display the image of a circle. We set the default radius to 3 and the default colour to blue:\n",
      "metadata": {}
    },
    {
      "cell_type": "code",
      "source": "# Create a class Circle\n\nclass Circle(object):\n    \n    # Constructor\n    def __init__(self, radius=3, color='blue'):\n        self.radius = radius\n        self.color = color \n    \n    # Method\n    def add_radius(self, r):\n        self.radius = self.radius + r\n        return(self.radius)\n    \n    # Method\n    def drawCircle(self):\n        plt.gca().add_patch(plt.Circle((0, 0), radius=self.radius, fc=self.color))\n        plt.axis('scaled')\n        plt.show()  ",
      "metadata": {
        "trusted": true
      },
      "execution_count": 2,
      "outputs": []
    },
    {
      "cell_type": "markdown",
      "source": "<hr>\n",
      "metadata": {}
    },
    {
      "cell_type": "markdown",
      "source": "<h2 id=\"circle\">Creating an instance of a class Circle</h2>\n",
      "metadata": {}
    },
    {
      "cell_type": "markdown",
      "source": "Let’s create the object <code>RedCircle</code> of type Circle to do the following:\n",
      "metadata": {}
    },
    {
      "cell_type": "code",
      "source": "# Create an object RedCircle\n\nRedCircle = Circle(10, 'red')",
      "metadata": {
        "trusted": true
      },
      "execution_count": 3,
      "outputs": []
    },
    {
      "cell_type": "markdown",
      "source": "We can use the <code>dir</code> command to get a list of the object's methods. Many of them are default Python methods.\n",
      "metadata": {}
    },
    {
      "cell_type": "code",
      "source": "# Find out the methods can be used on the object RedCircle\n\ndir(RedCircle)",
      "metadata": {
        "trusted": true
      },
      "execution_count": 4,
      "outputs": [
        {
          "execution_count": 4,
          "output_type": "execute_result",
          "data": {
            "text/plain": "['__class__',\n '__delattr__',\n '__dict__',\n '__dir__',\n '__doc__',\n '__eq__',\n '__format__',\n '__ge__',\n '__getattribute__',\n '__gt__',\n '__hash__',\n '__init__',\n '__init_subclass__',\n '__le__',\n '__lt__',\n '__module__',\n '__ne__',\n '__new__',\n '__reduce__',\n '__reduce_ex__',\n '__repr__',\n '__setattr__',\n '__sizeof__',\n '__str__',\n '__subclasshook__',\n '__weakref__',\n 'add_radius',\n 'color',\n 'drawCircle',\n 'radius']"
          },
          "metadata": {}
        }
      ]
    },
    {
      "cell_type": "markdown",
      "source": "We can look at the data attributes of the object:\n",
      "metadata": {}
    },
    {
      "cell_type": "code",
      "source": "# Print the object attribute radius\n\nRedCircle.radius",
      "metadata": {
        "trusted": true
      },
      "execution_count": 5,
      "outputs": [
        {
          "execution_count": 5,
          "output_type": "execute_result",
          "data": {
            "text/plain": "10"
          },
          "metadata": {}
        }
      ]
    },
    {
      "cell_type": "code",
      "source": "# Print the object attribute color\n\nRedCircle.color",
      "metadata": {
        "trusted": true
      },
      "execution_count": 6,
      "outputs": [
        {
          "execution_count": 6,
          "output_type": "execute_result",
          "data": {
            "text/plain": "'red'"
          },
          "metadata": {}
        }
      ]
    },
    {
      "cell_type": "markdown",
      "source": "We can change the object's data attributes:\n",
      "metadata": {}
    },
    {
      "cell_type": "code",
      "source": "# Set the object attribute radius\n\nRedCircle.radius = 1\nRedCircle.radius",
      "metadata": {
        "trusted": true
      },
      "execution_count": 7,
      "outputs": [
        {
          "execution_count": 7,
          "output_type": "execute_result",
          "data": {
            "text/plain": "1"
          },
          "metadata": {}
        }
      ]
    },
    {
      "cell_type": "markdown",
      "source": "We can draw the object by using the method <code>drawCircle()</code>:\n",
      "metadata": {}
    },
    {
      "cell_type": "code",
      "source": "# Call the method drawCircle\n\nRedCircle.drawCircle()",
      "metadata": {
        "trusted": true
      },
      "execution_count": 8,
      "outputs": [
        {
          "output_type": "display_data",
          "data": {
            "text/plain": "<pyolite.display.Image at 0x18cdf70>",
            "image/png": "[encoded data removed]"
          },
          "metadata": {}
        },
        {
          "output_type": "display_data",
          "data": {
            "text/plain": "<Figure size 640x480 with 0 Axes>"
          },
          "metadata": {}
        }
      ]
    },
    {
      "cell_type": "markdown",
      "source": "We can increase the radius of the circle by applying the method <code>add_radius()</code>. Let's increases the radius by 2 and then by 5:\n",
      "metadata": {}
    },
    {
      "cell_type": "code",
      "source": "# Use method to change the object attribute radius\n\nprint('Radius of object:',RedCircle.radius)\nRedCircle.add_radius(2)\nprint('Radius of object of after applying the method add_radius(2):',RedCircle.radius)\nRedCircle.add_radius(5)\nprint('Radius of object of after applying the method add_radius(5):',RedCircle.radius)",
      "metadata": {
        "trusted": true
      },
      "execution_count": 9,
      "outputs": [
        {
          "name": "stdout",
          "text": "Radius of object: 1\nRadius of object of after applying the method add_radius(2): 3\nRadius of object of after applying the method add_radius(5): 8\n",
          "output_type": "stream"
        }
      ]
    },
    {
      "cell_type": "markdown",
      "source": "Let’s create a blue circle. As the default colour is blue, all we have to do is specify what the radius is:\n",
      "metadata": {}
    },
    {
      "cell_type": "code",
      "source": "# Create a blue circle with a given radius\n\nBlueCircle = Circle(radius=100)",
      "metadata": {
        "trusted": true
      },
      "execution_count": 10,
      "outputs": []
    },
    {
      "cell_type": "markdown",
      "source": "As before, we can access the attributes of the instance of the class by using the dot notation:\n",
      "metadata": {}
    },
    {
      "cell_type": "code",
      "source": "# Print the object attribute radius\n\nBlueCircle.radius",
      "metadata": {
        "trusted": true
      },
      "execution_count": 11,
      "outputs": [
        {
          "execution_count": 11,
          "output_type": "execute_result",
          "data": {
            "text/plain": "100"
          },
          "metadata": {}
        }
      ]
    },
    {
      "cell_type": "code",
      "source": "# Print the object attribute color\n\nBlueCircle.color",
      "metadata": {
        "trusted": true
      },
      "execution_count": 12,
      "outputs": [
        {
          "execution_count": 12,
          "output_type": "execute_result",
          "data": {
            "text/plain": "'blue'"
          },
          "metadata": {}
        }
      ]
    },
    {
      "cell_type": "markdown",
      "source": "We can draw the object by using the method <code>drawCircle()</code>:\n",
      "metadata": {}
    },
    {
      "cell_type": "code",
      "source": "# Call the method drawCircle\n\nBlueCircle.drawCircle()",
      "metadata": {},
      "execution_count": null,
      "outputs": []
    },
    {
      "cell_type": "markdown",
      "source": "Compare the x and y axis of the figure to the figure for <code>RedCircle</code>; they are different.\n",
      "metadata": {}
    },
    {
      "cell_type": "markdown",
      "source": "<hr>\n",
      "metadata": {}
    },
    {
      "cell_type": "markdown",
      "source": "<h2 id=\"rect\">The Rectangle Class</h2>\n",
      "metadata": {}
    },
    {
      "cell_type": "markdown",
      "source": "Let's create a class rectangle with the attributes of height, width, and color. We will only add the method to draw the rectangle object:\n",
      "metadata": {}
    },
    {
      "cell_type": "code",
      "source": "# Create a new Rectangle class for creating a rectangle object\n\nclass Rectangle(object):\n    \n    # Constructor\n    def __init__(self, width=2, height=3, color='r'):\n        self.height = height \n        self.width = width\n        self.color = color\n    \n    # Method\n    def drawRectangle(self):\n        plt.gca().add_patch(plt.Rectangle((0, 0), self.width, self.height ,fc=self.color))\n        plt.axis('scaled')\n        plt.show()\n        ",
      "metadata": {
        "tags": [],
        "trusted": true
      },
      "execution_count": 13,
      "outputs": []
    },
    {
      "cell_type": "markdown",
      "source": "Let’s create the object <code>SkinnyBlueRectangle</code> of type Rectangle. Its width will be 2 and height will be 3, and the color will be blue:\n",
      "metadata": {}
    },
    {
      "cell_type": "code",
      "source": "# Create a new object rectangle\n\nSkinnyBlueRectangle = Rectangle(2, 3, 'blue')",
      "metadata": {
        "trusted": true
      },
      "execution_count": 14,
      "outputs": []
    },
    {
      "cell_type": "markdown",
      "source": "As before we can access the attributes of the instance of the class by using the dot notation:\n",
      "metadata": {}
    },
    {
      "cell_type": "code",
      "source": "# Print the object attribute height\n\nSkinnyBlueRectangle.height ",
      "metadata": {
        "trusted": true
      },
      "execution_count": 15,
      "outputs": [
        {
          "execution_count": 15,
          "output_type": "execute_result",
          "data": {
            "text/plain": "3"
          },
          "metadata": {}
        }
      ]
    },
    {
      "cell_type": "code",
      "source": "# Print the object attribute width\n\nSkinnyBlueRectangle.width",
      "metadata": {
        "trusted": true
      },
      "execution_count": 16,
      "outputs": [
        {
          "execution_count": 16,
          "output_type": "execute_result",
          "data": {
            "text/plain": "2"
          },
          "metadata": {}
        }
      ]
    },
    {
      "cell_type": "code",
      "source": "# Print the object attribute color\n\nSkinnyBlueRectangle.color",
      "metadata": {
        "trusted": true
      },
      "execution_count": 17,
      "outputs": [
        {
          "execution_count": 17,
          "output_type": "execute_result",
          "data": {
            "text/plain": "'blue'"
          },
          "metadata": {}
        }
      ]
    },
    {
      "cell_type": "markdown",
      "source": "We can draw the object:\n",
      "metadata": {}
    },
    {
      "cell_type": "code",
      "source": "# Use the drawRectangle method to draw the shape\n\nSkinnyBlueRectangle.drawRectangle()",
      "metadata": {
        "scrolled": true,
        "trusted": true
      },
      "execution_count": 18,
      "outputs": [
        {
          "output_type": "display_data",
          "data": {
            "text/plain": "<pyolite.display.Image at 0x316c308>",
            "image/png": "[encoded data removed]"
          },
          "metadata": {}
        },
        {
          "output_type": "display_data",
          "data": {
            "text/plain": "<Figure size 640x480 with 0 Axes>"
          },
          "metadata": {}
        }
      ]
    },
    {
      "cell_type": "markdown",
      "source": "Let’s create the object <code>FatYellowRectangle</code> of type Rectangle:\n",
      "metadata": {}
    },
    {
      "cell_type": "code",
      "source": "# Create a new object rectangle\n\nFatYellowRectangle = Rectangle(20, 5, 'yellow')",
      "metadata": {
        "tags": [],
        "trusted": true
      },
      "execution_count": 19,
      "outputs": []
    },
    {
      "cell_type": "markdown",
      "source": "We can access the attributes of the instance of the class by using the dot notation:\n",
      "metadata": {}
    },
    {
      "cell_type": "code",
      "source": "# Print the object attribute height\n\nFatYellowRectangle.height ",
      "metadata": {},
      "execution_count": null,
      "outputs": []
    },
    {
      "cell_type": "code",
      "source": "# Print the object attribute width\n\nFatYellowRectangle.width",
      "metadata": {},
      "execution_count": null,
      "outputs": []
    },
    {
      "cell_type": "code",
      "source": "# Print the object attribute color\n\nFatYellowRectangle.color",
      "metadata": {},
      "execution_count": null,
      "outputs": []
    },
    {
      "cell_type": "markdown",
      "source": "We can draw the object:\n",
      "metadata": {}
    },
    {
      "cell_type": "code",
      "source": "# Use the drawRectangle method to draw the shape\n\nFatYellowRectangle.drawRectangle()",
      "metadata": {},
      "execution_count": null,
      "outputs": []
    },
    {
      "cell_type": "markdown",
      "source": "<hr>\n",
      "metadata": {}
    },
    {
      "cell_type": "markdown",
      "source": "<h2 id=\"rect\">Exercises</h2>\n",
      "metadata": {}
    },
    {
      "cell_type": "markdown",
      "source": "<h4> Text Analysis </h4>\n",
      "metadata": {}
    },
    {
      "cell_type": "markdown",
      "source": "You have been recruited by your friend, a linguistics enthusiast, to create a utility tool that can perform analysis on a given piece of text. Complete the class\n'analysedText' with the following methods -\n\n<ul>\n    <li> Constructor (__init__) - This method should take the argument <code>text</code>, make it lower case, and remove all punctuation.  Assume only the following punctuation is used: period (.), exclamation mark (!), comma (,) and question mark (?). Assign this newly formatted text to a new attribute called <code>fmtText</code>.\n    <li> freqAll - This method should create and <strong>return</strong> dictionary of all unique words in the text, along with the number of times they occur in the text. Each key in the dictionary should be the unique word appearing in the text and the associated value should be the number of times it occurs in the text. Create this dictionary from the <code>fmtText</code> attribute.\n    <li> freqOf - This method should take a word as an argument and <strong>return</strong> the number of occurrences of that word in <code>fmtText</code>.\n</ul>\n The skeleton code has been given to you. Docstrings can be ignored for the purpose of the exercise. <br>\n <i> Hint: Some useful functions are <code>replace()</code>, <code>lower()</code>, <code>split()</code>, <code>count()</code> </i><br>\n",
      "metadata": {}
    },
    {
      "cell_type": "markdown",
      "source": "<details><summary>Hint for implementing Constructor</summary>\n\nThe <code>lower()</code> function converts all characters in the string to lowercase.\n\nThe <code>replace()</code> function takes two arguments: the text to search for and the text to replace it with. Try calling this function for each punctuation you want to remove and replace it with a blank character, <code>''</code>\n\nYou can define a class attribute and assign it a value with the following generic recipe: <code>self.attribute_name = value</code>\n\n</details>\n",
      "metadata": {}
    },
    {
      "cell_type": "markdown",
      "source": "<details><summary>Hint for implementing freqAll</summary>\n\nYou can create a list of all words in <code>fmtText</code> using the <code>split()</code> and by using the whitespace character, <code>' '</code> as the delimiter.\n\nUsing <code>set()</code> with a list as the argument will return a set with all the unique elements in the list. Try iterating over the elements in this set to create the keys for a dictionary. The <code>count()</code> function will return the number of occurrences of the argument in list. For example, <code>\\[\"hi\", \"hi\", \"hello\"].count(\"hi\")</code> will return 2. This can be used to set the values for each key-value pair in the dictionary.\n\n</details>\n",
      "metadata": {}
    },
    {
      "cell_type": "markdown",
      "source": "<details><summary>Hint for implementing freqOf</summary>\n\nTry calling the <code>freqAll</code> method you implemented above and assign it to a variable. You will now have a dictionary with the unique words that appear in fmtText as the keys, and the number of times they appear as the value.\n\nYou can use this dictionary to return the number of occurrences of the word that was given as an argument to the <code>freqOf</code> method.\n\nIf the word given as an argument does not appear in the text, return 0. You can check if a string is a key in the dictionary using the following code recipe: <code>if item in my_dictionary:</code>\n\n</details>\n",
      "metadata": {}
    },
    {
      "cell_type": "code",
      "source": "class analysedText(object):\n    \n    def __init__ (self, text):\n        # remove punctuation\n        formattedText = text.replace('.','').replace('!','').replace('?','').replace(',','')\n        \n        # make text lowercase\n        formattedText = formattedText.lower()\n        \n        self.fmtText = formattedText\n        \n    def freqAll(self):        \n        # split text into words\n        wordList = self.fmtText.split(' ')\n        \n        # Create dictionary\n        freqMap = {}\n        for word in set(wordList): # use set to remove duplicates in list\n            freqMap[word] = wordList.count(word)\n        \n        return freqMap\n    \n    def freqOf(self,word):\n        # get frequency map\n        freqDict = self.freqAll()\n        \n        if word in freqDict:\n            return freqDict[word]\n        else:\n            return 0\n    \n    Text = analysedText(text = 'dennis')",
      "metadata": {
        "trusted": true
      },
      "execution_count": 28,
      "outputs": []
    },
    {
      "cell_type": "markdown",
      "source": "You can run the code cell below to test your functions to ensure they are working correctly. First execute the code cell in which you implemented your solution, then execute the code cell to test your implementation.\n",
      "metadata": {}
    },
    {
      "cell_type": "code",
      "source": "import sys\n\nsampleMap = {'eirmod': 1,'sed': 1, 'amet': 2, 'diam': 5, 'consetetur': 1, 'labore': 1, 'tempor': 1, 'dolor': 1, 'magna': 2, 'et': 3, 'nonumy': 1, 'ipsum': 1, 'lorem': 2}\n\ndef testMsg(passed):\n    if passed:\n       return 'Test Passed'\n    else :\n       return 'Test Failed'\n\nprint(\"Constructor: \")\ntry:\n    samplePassage = analysedText(\"Lorem ipsum dolor! diam amet, consetetur Lorem magna. sed diam nonumy eirmod tempor. diam et labore? et diam magna. et diam amet.\")\n    print(testMsg(samplePassage.fmtText == \"lorem ipsum dolor diam amet consetetur lorem magna sed diam nonumy eirmod tempor diam et labore et diam magna et diam amet\"))\nexcept:\n    print(\"Error detected. Recheck your function \" )\nprint(\"freqAll: \")\ntry:\n    wordMap = samplePassage.freqAll()\n    print(testMsg(wordMap==sampleMap))\nexcept:\n    print(\"Error detected. Recheck your function \" )\nprint(\"freqOf: \")\ntry:\n    passed = True\n    for word in sampleMap:\n        if samplePassage.freqOf(word) != sampleMap[word]:\n            passed = False\n            break\n    print(testMsg(passed))\n    \nexcept:\n    print(\"Error detected. Recheck your function  \" )\n    ",
      "metadata": {},
      "execution_count": null,
      "outputs": []
    },
    {
      "cell_type": "markdown",
      "source": "<details><summary>Click here for the solution</summary>\n\n```python\nclass analysedText(object):\n    \n    def __init__ (self, text):\n        # remove punctuation\n        formattedText = text.replace('.','').replace('!','').replace('?','').replace(',','')\n        \n        # make text lowercase\n        formattedText = formattedText.lower()\n        \n        self.fmtText = formattedText\n        \n    def freqAll(self):        \n        # split text into words\n        wordList = self.fmtText.split(' ')\n        \n        # Create dictionary\n        freqMap = {}\n        for word in set(wordList): # use set to remove duplicates in list\n            freqMap[word] = wordList.count(word)\n        \n        return freqMap\n    \n    def freqOf(self,word):\n        # get frequency map\n        freqDict = self.freqAll()\n        \n        if word in freqDict:\n            return freqDict[word]\n        else:\n            return 0\n    \n```\n\n</details>\n",
      "metadata": {}
    },
    {
      "cell_type": "markdown",
      "source": "<hr>\n<h2>The last exercise!</h2>\n<p>Congratulations, you have completed your first lesson and hands-on lab in Python. \n<hr>\n",
      "metadata": {}
    },
    {
      "cell_type": "markdown",
      "source": "## Author\n\n<a href=\"https://www.linkedin.com/in/joseph-s-50398b136/?utm_medium=Exinfluencer&utm_source=Exinfluencer&utm_content=000026UJ&utm_term=10006555&utm_id=NA-SkillsNetwork-Channel-SkillsNetworkCoursesIBMDeveloperSkillsNetworkPY0101ENSkillsNetwork19487395-2021-01-01\" target=\"_blank\">Joseph Santarcangelo</a>\n\n## Other contributors\n\n<a href=\"https://www.linkedin.com/in/jiahui-mavis-zhou-a4537814a?utm_medium=Exinfluencer&utm_source=Exinfluencer&utm_content=000026UJ&utm_term=10006555&utm_id=NA-SkillsNetwork-Channel-SkillsNetworkCoursesIBMDeveloperSkillsNetworkPY0101ENSkillsNetwork19487395-2021-01-01\">Mavis Zhou</a>\n\n## Change Log\n\n| Date (YYYY-MM-DD) | Version | Changed By | Change Description                 |\n| ----------------- | ------- | ---------- | ---------------------------------- |\n| 2022-01-10        | 2.1     | Malika     | Removed the readme for GitShare    |\n| 2020-08-26        | 2.0     | Lavanya    | Moved lab to course repo in GitLab |\n|                   |         |            |                                    |\n|                   |         |            |                                    |\n\n<hr/>\n\n## <h3 align=\"center\"> © IBM Corporation 2020. All rights reserved. <h3/>\n",
      "metadata": {}
    }
  ]
}